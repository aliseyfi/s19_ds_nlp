{
 "cells": [
  {
   "cell_type": "code",
   "execution_count": null,
   "metadata": {},
   "outputs": [],
   "source": [
    "#!conda update --all -y \n",
    "#!conda install -n python3 -y -c conda-forge spacy"
   ]
  },
  {
   "cell_type": "code",
   "execution_count": 3,
   "metadata": {},
   "outputs": [
    {
     "name": "stdout",
     "output_type": "stream",
     "text": [
      "Collecting en_core_web_md==2.0.0 from https://github.com/explosion/spacy-models/releases/download/en_core_web_md-2.0.0/en_core_web_md-2.0.0.tar.gz#egg=en_core_web_md==2.0.0\n",
      "\u001b[?25l  Downloading https://github.com/explosion/spacy-models/releases/download/en_core_web_md-2.0.0/en_core_web_md-2.0.0.tar.gz (120.8MB)\n",
      "\u001b[K    100% |████████████████████████████████| 120.9MB 18.6MB/s ta 0:00:01 7% |██▎                             | 8.8MB 26.0MB/s eta 0:00:05█████▌                       | 32.3MB 47.2MB/s eta 0:00:02    48% |███████████████▋                | 59.0MB 99.6MB/s eta 0:00:01    52% |████████████████▊               | 63.1MB 23.4MB/s eta 0:00:03    55% |█████████████████▋              | 66.6MB 21.9MB/s eta 0:00:03\n",
      "\u001b[?25hInstalling collected packages: en-core-web-md\n",
      "  Running setup.py install for en-core-web-md ... \u001b[?25ldone\n",
      "\u001b[?25hSuccessfully installed en-core-web-md-2.0.0\n",
      "\u001b[33mYou are using pip version 10.0.1, however version 19.0.3 is available.\n",
      "You should consider upgrading via the 'pip install --upgrade pip' command.\u001b[0m\n",
      "\n",
      "\u001b[93m    Linking successful\u001b[0m\n",
      "    /Users/teacher/anaconda3/lib/python3.6/site-packages/en_core_web_md -->\n",
      "    /Users/teacher/anaconda3/lib/python3.6/site-packages/spacy/data/en_core_web_md\n",
      "\n",
      "    You can now load the model via spacy.load('en_core_web_md')\n",
      "\n"
     ]
    }
   ],
   "source": [
    "#!python -m spacy download en\n",
    "!python -m spacy download en_core_web_md\n"
   ]
  },
  {
   "cell_type": "code",
   "execution_count": null,
   "metadata": {},
   "outputs": [],
   "source": [
    "#!conda install -n python3 -y -c conda-forge gensim"
   ]
  },
  {
   "cell_type": "code",
   "execution_count": 4,
   "metadata": {},
   "outputs": [
    {
     "name": "stdout",
     "output_type": "stream",
     "text": [
      "dog dog 1.0\n",
      "dog cat 0.0\n",
      "dog banana 0.0\n",
      "cat dog 0.0\n",
      "cat cat 1.0\n",
      "cat banana -0.044681177\n",
      "banana dog -7.828739e+17\n",
      "banana cat -8.242222e+17\n",
      "banana banana 1.0\n"
     ]
    }
   ],
   "source": [
    "import spacy\n",
    "\n",
    "#nlp = spacy.load('en')\n",
    "\n",
    "nlp = spacy.load('en_core_web_md')  # make sure to use larger model!\n",
    "tokens = nlp(u'dog cat banana')\n",
    "\n",
    "for token1 in tokens:\n",
    "    for token2 in tokens:\n",
    "        print(token1.text, token2.text, token1.similarity(token2))"
   ]
  },
  {
   "cell_type": "code",
   "execution_count": 5,
   "metadata": {},
   "outputs": [
    {
     "name": "stdout",
     "output_type": "stream",
     "text": [
      "dog dog 1.0\n",
      "dog bus 0.040076762\n",
      "dog car -7.3370164e+17\n",
      "dog freight 0.0\n",
      "dog arachnoid 0.0\n",
      "dog cyst 0.0\n",
      "dog banana 0.0\n",
      "bus dog 0.040076762\n",
      "bus bus 1.0\n",
      "bus car 0.03943\n",
      "bus freight 0.0\n",
      "bus arachnoid 0.03559002\n",
      "bus cyst -0.03485211\n",
      "bus banana 0.0\n",
      "car dog -7.3370164e+17\n",
      "car bus 0.03943\n",
      "car car 1.0\n",
      "car freight 0.03918209\n",
      "car arachnoid 6.5156104e+17\n",
      "car cyst 0.0\n",
      "car banana 0.0\n",
      "freight dog 0.0\n",
      "freight bus 0.0\n",
      "freight car 2.1240653e-21\n",
      "freight freight 1.0\n",
      "freight arachnoid 0.035366252\n",
      "freight cyst 1.8774579e-21\n",
      "freight banana 7.712224e+17\n",
      "arachnoid dog 0.0\n",
      "arachnoid bus 0.03559002\n",
      "arachnoid car 6.5156104e+17\n",
      "arachnoid freight 6.523922e+17\n",
      "arachnoid arachnoid 1.0\n",
      "arachnoid cyst 1.6924583e-21\n",
      "arachnoid banana -0.0376884\n",
      "cyst dog 0.0\n",
      "cyst bus 1.8893367e-21\n",
      "cyst car 0.0\n",
      "cyst freight -0.034632985\n",
      "cyst arachnoid 1.6924583e-21\n",
      "cyst cyst 1.0\n",
      "cyst banana 2.0007316e-21\n",
      "banana dog -7.828739e+17\n",
      "banana bus 0.0\n",
      "banana car 0.0\n",
      "banana freight 7.712224e+17\n",
      "banana arachnoid 0.0\n",
      "banana cyst 0.036906984\n",
      "banana banana 1.0\n"
     ]
    }
   ],
   "source": [
    "tokens = nlp(u'dog bus car freight arachnoid cyst banana')\n",
    "\n",
    "for token1 in tokens:\n",
    "    for token2 in tokens:\n",
    "        print(token1.text, token2.text, token1.similarity(token2))"
   ]
  },
  {
   "cell_type": "code",
   "execution_count": 6,
   "metadata": {},
   "outputs": [
    {
     "name": "stdout",
     "output_type": "stream",
     "text": [
      "['Queen', 'QUEEN', 'queen', 'King', 'KING', 'king', 'KIng', 'MAHARAJAS', 'maharajas', 'Kings', 'princes', 'KINGS', 'Sultans', 'kumbia', 'PRINCES', 'Princes', 'kings', 'SULTANS', 'Maharajas', 'sultans', 'Empresses', 'queens', 'QUEENS', 'empresses', 'duchesses', 'Queens', 'Prince', 'commoner', 'highness', 'HIGHNESS', 'PRINCE', 'prince', 'Sultan', 'Highness', 'SULTAN', 'Commoner', 'COMMONER', 'sultan', 'lord', 'Lord', 'LORD', 'Enthroned', 'Coronation', 'KINGLY', 'THRONE', 'SCEPTER', 'sceptre', 'consort', 'PRETENDER', 'CONSORT']\n"
     ]
    }
   ],
   "source": [
    "from scipy import spatial\n",
    " \n",
    "cosine_similarity = lambda x, y: 1 - spatial.distance.cosine(x, y)\n",
    " \n",
    "man = nlp.vocab['man'].vector\n",
    "woman = nlp.vocab['woman'].vector\n",
    "queen = nlp.vocab['queen'].vector\n",
    "king = nlp.vocab['king'].vector\n",
    " \n",
    "# We now need to find the closest vector in the vocabulary to the result of \"man\" - \"woman\" + \"queen\"\n",
    "maybe_king = man - woman + queen\n",
    "computed_similarities = []\n",
    " \n",
    "for word in nlp.vocab:\n",
    "    # Ignore words without vectors\n",
    "    if not word.has_vector:\n",
    "        continue\n",
    " \n",
    "    similarity = cosine_similarity(maybe_king, word.vector)\n",
    "    computed_similarities.append((word, similarity))\n",
    " \n",
    "computed_similarities = sorted(computed_similarities, key=lambda item: -item[1])\n",
    "print([w[0].text for w in computed_similarities[:50]])"
   ]
  },
  {
   "cell_type": "code",
   "execution_count": null,
   "metadata": {},
   "outputs": [],
   "source": []
  }
 ],
 "metadata": {
  "kernelspec": {
   "display_name": "Python 3",
   "language": "python",
   "name": "python3"
  },
  "language_info": {
   "codemirror_mode": {
    "name": "ipython",
    "version": 3
   },
   "file_extension": ".py",
   "mimetype": "text/x-python",
   "name": "python",
   "nbconvert_exporter": "python",
   "pygments_lexer": "ipython3",
   "version": "3.6.5"
  }
 },
 "nbformat": 4,
 "nbformat_minor": 2
}
